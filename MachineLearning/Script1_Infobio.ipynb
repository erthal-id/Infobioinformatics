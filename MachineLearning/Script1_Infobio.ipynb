{
  "nbformat": 4,
  "nbformat_minor": 0,
  "metadata": {
    "colab": {
      "provenance": [],
      "collapsed_sections": []
    },
    "kernelspec": {
      "name": "python3",
      "display_name": "Python 3"
    },
    "language_info": {
      "name": "python"
    }
  },
  "cells": [
    {
      "cell_type": "code",
      "source": [
        "#!pip install sklearn"
      ],
      "metadata": {
        "id": "lMDM-CDCQMEE"
      },
      "execution_count": null,
      "outputs": []
    },
    {
      "cell_type": "code",
      "execution_count": null,
      "metadata": {
        "id": "PB6Wj7iyKXPf"
      },
      "outputs": [],
      "source": [
        "#2021/1\n",
        "#Features: 0 -> não, 1 -> sim\n",
        "#saía de casa com freq?\n",
        "#tomou vacina?\n",
        "#tomou cloroquina?\n",
        "#usava máscara?\n",
        "\n",
        "contraiu1 = [1,0,1,0]\n",
        "contraiu2 = [1,0,0,1]\n",
        "contraiu3 = [0,1,1,0]\n",
        "contraiu4 = [1,0,1,1]\n",
        "\n",
        "naocontraiu1 = [0,1,0,1]\n",
        "naocontraiu2 = [1,1,0,1]\n",
        "naocontraiu3 = [0,0,1,1]\n",
        "naocontraiu4 = [0,1,0,0]\n",
        "\n",
        "treino_x = [contraiu1, contraiu2, contraiu3, contraiu4, naocontraiu1, naocontraiu2, naocontraiu3, naocontraiu4]\n",
        "treino_y = [1,1,1,1,0,0,0,0]"
      ]
    },
    {
      "cell_type": "code",
      "source": [
        "#Linear Support Vector Classification: método de aprendizado supervisionado\n",
        "from sklearn.svm import LinearSVC"
      ],
      "metadata": {
        "id": "t2uPMkWYQo_y"
      },
      "execution_count": null,
      "outputs": []
    },
    {
      "cell_type": "code",
      "source": [
        "#??LinearSVC\n",
        "model = LinearSVC()\n",
        "model.fit(treino_x, treino_y)"
      ],
      "metadata": {
        "id": "nDdWAGD2RAXw"
      },
      "execution_count": null,
      "outputs": []
    },
    {
      "cell_type": "code",
      "source": [
        "misterio1 = [0,1,1,1] \n",
        "misterio2 = [1,0,0,0]\n",
        "misterio3 = [1,1,1,1]\n",
        "\n",
        "teste_x = [misterio1, misterio2, misterio3]\n",
        "teste_y = [0,1,0]"
      ],
      "metadata": {
        "id": "MPSifmTmRN7M"
      },
      "execution_count": null,
      "outputs": []
    },
    {
      "cell_type": "code",
      "source": [
        "#testando o nosso modelo\n",
        "previsoes = model.predict(teste_x)\n",
        "print(previsoes)"
      ],
      "metadata": {
        "colab": {
          "base_uri": "https://localhost:8080/"
        },
        "id": "afJD1jTERigM",
        "outputId": "1c2b224c-1756-4211-a9b5-6a0c2f6904a6"
      },
      "execution_count": null,
      "outputs": [
        {
          "output_type": "stream",
          "name": "stdout",
          "text": [
            "[0 1 1]\n"
          ]
        }
      ]
    },
    {
      "cell_type": "code",
      "source": [
        "#Calcular acurácia do modelo manualmente:\n",
        "corretos = (previsoes == teste_y).sum()\n",
        "total = len(teste_y) \n",
        "taxa_de_acerto = corretos/total\n",
        "print('A taxa de acerto foi de: %.2f%%' % (taxa_de_acerto*100))"
      ],
      "metadata": {
        "colab": {
          "base_uri": "https://localhost:8080/"
        },
        "id": "9njeF9LaVbds",
        "outputId": "1fdbb395-d32b-4609-8208-95543e49e869"
      },
      "execution_count": null,
      "outputs": [
        {
          "output_type": "stream",
          "name": "stdout",
          "text": [
            "A taxa de acerto foi de: 66.67%\n"
          ]
        }
      ]
    },
    {
      "cell_type": "code",
      "source": [
        "#Calcular acurácia usando sklearn\n",
        "from sklearn.metrics import accuracy_score\n",
        "\n",
        "taxa_de_acerto = accuracy_score(teste_y, previsoes)\n",
        "print('A taxa de acerto foi de: %.2f%%' % (taxa_de_acerto*100))"
      ],
      "metadata": {
        "colab": {
          "base_uri": "https://localhost:8080/"
        },
        "id": "DJwEKQGQbDO5",
        "outputId": "fab4e834-8809-4f01-ee1e-f2b2e7ee1258"
      },
      "execution_count": null,
      "outputs": [
        {
          "output_type": "stream",
          "name": "stdout",
          "text": [
            "A taxa de acerto foi de: 66.67%\n"
          ]
        }
      ]
    }
  ]
}